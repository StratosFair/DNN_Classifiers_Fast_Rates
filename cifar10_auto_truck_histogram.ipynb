{
  "nbformat": 4,
  "nbformat_minor": 0,
  "metadata": {
    "colab": {
      "provenance": [],
      "authorship_tag": "ABX9TyNsk+ic1Vu9Glmkw+aGkrHZ",
      "include_colab_link": true
    },
    "kernelspec": {
      "name": "python3",
      "display_name": "Python 3"
    },
    "language_info": {
      "name": "python"
    }
  },
  "cells": [
    {
      "cell_type": "markdown",
      "metadata": {
        "id": "view-in-github",
        "colab_type": "text"
      },
      "source": [
        "<a href=\"https://colab.research.google.com/github/StratosFair/DNN_Classifiers_Fast_Rates/blob/main/cifar10_auto_truck_histogram.ipynb\" target=\"_parent\"><img src=\"https://colab.research.google.com/assets/colab-badge.svg\" alt=\"Open In Colab\"/></a>"
      ]
    },
    {
      "cell_type": "code",
      "source": [
        "import torch\n",
        "import torch.nn as nn\n",
        "from torchvision import datasets, transforms\n",
        "from torch.utils.data import DataLoader, Subset, TensorDataset\n",
        "import numpy as np\n",
        "import matplotlib.pyplot as plt"
      ],
      "metadata": {
        "id": "i7GCt41rmLrh"
      },
      "execution_count": 7,
      "outputs": []
    },
    {
      "cell_type": "code",
      "source": [
        "\n",
        "# CIFAR-10 Classes\n",
        "cifar_classes = ['airplane', 'automobile', 'bird', 'cat', 'deer', 'dog', 'frog', 'horse', 'ship', 'truck']\n",
        "\n",
        "# Define transforms to convert images into tensors\n",
        "cifar_transform = transforms.Compose([\n",
        "    transforms.ToTensor()\n",
        "])\n",
        "\n",
        "# Load CIFAR-10 dataset\n",
        "cifar_train = datasets.CIFAR10(root=\"./data\", train=True, download=True, transform=cifar_transform)\n",
        "cifar_test = datasets.CIFAR10(root=\"./data\", train=False, download=True, transform=cifar_transform)\n",
        "\n",
        "# Filter for automobile (class 1) and truck (class 9)\n",
        "indices_auto = [i for i, (_, label) in enumerate(cifar_train) if label == 1] #formerly cat\n",
        "indices_truck = [i for i, (_, label) in enumerate(cifar_train) if label == 9] #formerly dog\n",
        "\n",
        "# Combine indices\n",
        "train_indices = indices_auto + indices_truck\n",
        "test_indices = [i for i, (_, label) in enumerate(cifar_test) if label in [1, 9]]\n",
        "\n",
        "# Create train and test subsets\n",
        "train_data = Subset(cifar_train, train_indices)\n",
        "test_data = Subset(cifar_test, test_indices)\n",
        "\n",
        "# Assign labels: Truck -> +1, Automobile -> -1\n",
        "def assign_labels(subset):\n",
        "    images, labels = zip(*[(data[0], 1.0 if data[1] == 9 else -1.0) for data in subset])\n",
        "    return torch.stack(images), torch.tensor(labels)\n",
        "\n",
        "# Assign labels to train and test datasets\n",
        "X_train, y_train = assign_labels(train_data)\n",
        "X_test, y_test = assign_labels(test_data)\n",
        "\n",
        "# Verify data shapes\n",
        "print(f\"Train data shape: {X_train.shape}, Train labels shape: {y_train.shape}\")\n",
        "print(f\"Test data shape: {X_test.shape}, Test labels shape: {y_test.shape}\")"
      ],
      "metadata": {
        "id": "aRtTPuU-szS4",
        "outputId": "be8ccf15-3dca-431f-dce6-2bfc85a84864",
        "colab": {
          "base_uri": "https://localhost:8080/"
        }
      },
      "execution_count": 8,
      "outputs": [
        {
          "output_type": "stream",
          "name": "stdout",
          "text": [
            "Train data shape: torch.Size([10000, 3, 32, 32]), Train labels shape: torch.Size([10000])\n",
            "Test data shape: torch.Size([2000, 3, 32, 32]), Test labels shape: torch.Size([2000])\n"
          ]
        }
      ]
    },
    {
      "cell_type": "code",
      "source": [
        "class SimpleCNN(nn.Module):\n",
        "    def __init__(self):\n",
        "        super(SimpleCNN, self).__init__()\n",
        "        self.network = nn.Sequential(\n",
        "            # Convolutional layers\n",
        "            nn.Conv2d(3, 32, kernel_size=3, stride=1, padding=1),\n",
        "            nn.ReLU(),\n",
        "            nn.MaxPool2d(kernel_size=2, stride=2),\n",
        "            nn.Conv2d(32, 64, kernel_size=3, stride=1, padding=1),\n",
        "            nn.ReLU(),\n",
        "            nn.MaxPool2d(kernel_size=2, stride=2),\n",
        "            # Fully connected layers\n",
        "            nn.Flatten(),\n",
        "            nn.Linear(64 * 8 * 8, 128),\n",
        "            nn.ReLU(),\n",
        "            nn.Linear(128, 1)  # Outputs a scalar value (-1 to 1)\n",
        "        )\n",
        "\n",
        "    def forward(self, x):\n",
        "        return self.network(x)"
      ],
      "metadata": {
        "id": "Ju0AWZhLjYt0"
      },
      "execution_count": 9,
      "outputs": []
    },
    {
      "cell_type": "code",
      "source": [
        "# Create DataLoaders\n",
        "batch_size = 64\n",
        "train_loader = DataLoader(TensorDataset(X_train, y_train), batch_size=batch_size, shuffle=True)\n",
        "test_loader = DataLoader(TensorDataset(X_test, y_test), batch_size=batch_size, shuffle=False)\n",
        "\n",
        "# Initialize model, loss, and optimizer\n",
        "model = SimpleCNN()\n",
        "criterion = nn.MSELoss()  # Mean Squared Error Loss\n",
        "optimizer = torch.optim.Adam(model.parameters(), lr=0.001)\n",
        "\n",
        "# Define the loss threshold\n",
        "loss_threshold = 0.03\n",
        "\n",
        "# Training loop with early stopping\n",
        "epochs = 100\n",
        "for epoch in range(epochs):\n",
        "    model.train()\n",
        "    running_loss = 0.0\n",
        "\n",
        "    for images, labels in train_loader:\n",
        "        # Forward pass\n",
        "        outputs = model(images).squeeze()  # Output shape: [batch_size]\n",
        "        loss = criterion(outputs, labels)\n",
        "\n",
        "        # Backward pass\n",
        "        optimizer.zero_grad()\n",
        "        loss.backward()\n",
        "        optimizer.step()\n",
        "\n",
        "        running_loss += loss.item()\n",
        "\n",
        "    # Calculate average loss for the epoch\n",
        "    avg_loss = running_loss / len(train_loader)\n",
        "\n",
        "    # Print progress\n",
        "    print(f\"Epoch {epoch+1}/{epochs}, Loss: {avg_loss:.4f}\")\n",
        "\n",
        "    # Check if loss is below the threshold\n",
        "    if avg_loss < loss_threshold:\n",
        "        print(f\"Stopping early at epoch {epoch+1} as loss fell below {loss_threshold:.4f}\")\n",
        "        break"
      ],
      "metadata": {
        "collapsed": true,
        "id": "inJt09LxtP-2",
        "outputId": "13d4270a-5e4e-45c2-86bc-e98d34721996",
        "colab": {
          "base_uri": "https://localhost:8080/"
        }
      },
      "execution_count": 10,
      "outputs": [
        {
          "output_type": "stream",
          "name": "stdout",
          "text": [
            "Epoch 1/100, Loss: 0.7916\n",
            "Epoch 2/100, Loss: 0.5752\n",
            "Epoch 3/100, Loss: 0.4707\n",
            "Epoch 4/100, Loss: 0.4092\n",
            "Epoch 5/100, Loss: 0.3612\n",
            "Epoch 6/100, Loss: 0.3154\n",
            "Epoch 7/100, Loss: 0.2889\n",
            "Epoch 8/100, Loss: 0.2536\n",
            "Epoch 9/100, Loss: 0.2239\n",
            "Epoch 10/100, Loss: 0.2127\n",
            "Epoch 11/100, Loss: 0.1868\n",
            "Epoch 12/100, Loss: 0.1595\n",
            "Epoch 13/100, Loss: 0.1487\n",
            "Epoch 14/100, Loss: 0.1257\n",
            "Epoch 15/100, Loss: 0.1138\n",
            "Epoch 16/100, Loss: 0.0942\n",
            "Epoch 17/100, Loss: 0.0905\n",
            "Epoch 18/100, Loss: 0.0747\n",
            "Epoch 19/100, Loss: 0.0624\n",
            "Epoch 20/100, Loss: 0.0535\n",
            "Epoch 21/100, Loss: 0.0489\n",
            "Epoch 22/100, Loss: 0.0487\n",
            "Epoch 23/100, Loss: 0.0369\n",
            "Epoch 24/100, Loss: 0.0329\n",
            "Epoch 25/100, Loss: 0.0292\n",
            "Stopping early at epoch 25 as loss fell below 0.0300\n"
          ]
        }
      ]
    },
    {
      "cell_type": "code",
      "source": [
        "# Evaluate the model on the test set\n",
        "model.eval()\n",
        "with torch.no_grad():\n",
        "    y_pred = []\n",
        "    for images, _ in test_loader:\n",
        "        outputs = model(images).squeeze()  # Predicted values (-1 to 1)\n",
        "        y_pred.extend(outputs.tolist())\n",
        "\n",
        "# Convert predictions to numpy array for histogram\n",
        "y_pred = np.array(y_pred)"
      ],
      "metadata": {
        "id": "412j-Lsqje3n"
      },
      "execution_count": 11,
      "outputs": []
    },
    {
      "cell_type": "code",
      "source": [
        "# Clip predictions to [-1, 1]\n",
        "y_pred = np.clip(y_pred, -1, 1)\n",
        "\n",
        "# Plot histogram\n",
        "plt.figure(figsize=(8, 6))\n",
        "bins = np.linspace(-1, 1, 51)  # 50 bins between -1 and 1\n",
        "plt.hist(y_pred[y_pred < 0], bins=bins, alpha=0.7, color='blue', edgecolor='black', label='Predicted: Automobile (-1)')\n",
        "plt.hist(y_pred[y_pred > 0], bins=bins, alpha=0.7, color='red', edgecolor='black', label='Predicted: Truck (+1)')\n",
        "plt.axvline(0, color='black', linestyle='--', label='Decision Boundary (0)')\n",
        "\n",
        "# Add labels and title\n",
        "plt.title(\"Histogram of Predicted Labels (Automobile vs Truck)\", fontsize=14)\n",
        "plt.xlabel(\"Predicted Label\", fontsize=12)\n",
        "plt.ylabel(\"Frequency\", fontsize=12)\n",
        "plt.legend(fontsize=12)\n",
        "plt.show()"
      ],
      "metadata": {
        "colab": {
          "base_uri": "https://localhost:8080/",
          "height": 569
        },
        "id": "PThxbicgkCni",
        "outputId": "9d8ae398-cc29-4620-a759-d9ed57f2d148"
      },
      "execution_count": 12,
      "outputs": [
        {
          "output_type": "display_data",
          "data": {
            "text/plain": [
              "<Figure size 800x600 with 1 Axes>"
            ],
            "image/png": "[encoded data removed]"
          },
          "metadata": {}
        }
      ]
    },
    {
      "cell_type": "code",
      "source": [],
      "metadata": {
        "id": "j0Utl4LWkDcA"
      },
      "execution_count": 12,
      "outputs": []
    }
  ]
}