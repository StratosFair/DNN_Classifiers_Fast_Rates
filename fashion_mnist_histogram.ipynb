{
  "nbformat": 4,
  "nbformat_minor": 0,
  "metadata": {
    "colab": {
      "provenance": [],
      "authorship_tag": "ABX9TyMv6ospIEf6jsB1hpMwL/+W",
      "include_colab_link": true
    },
    "kernelspec": {
      "name": "python3",
      "display_name": "Python 3"
    },
    "language_info": {
      "name": "python"
    }
  },
  "cells": [
    {
      "cell_type": "markdown",
      "metadata": {
        "id": "view-in-github",
        "colab_type": "text"
      },
      "source": [
        "<a href=\"https://colab.research.google.com/github/StratosFair/DNN_Classifiers_Fast_Rates/blob/main/fashion_mnist_histogram.ipynb\" target=\"_parent\"><img src=\"https://colab.research.google.com/assets/colab-badge.svg\" alt=\"Open In Colab\"/></a>"
      ]
    },
    {
      "cell_type": "code",
      "source": [
        "import torch\n",
        "import torch.nn as nn\n",
        "from torchvision import datasets, transforms\n",
        "from torch.utils.data import DataLoader, Subset, random_split\n",
        "from sklearn.model_selection import train_test_split\n",
        "import numpy as np"
      ],
      "metadata": {
        "id": "i7GCt41rmLrh"
      },
      "execution_count": 17,
      "outputs": []
    },
    {
      "cell_type": "code",
      "source": [
        "# Load Fashion-MNIST dataset\n",
        "fashion_transform = transforms.Compose([transforms.ToTensor()])\n",
        "fashion_train = datasets.FashionMNIST(root=\"./data\", train=True, download=True, transform=fashion_transform)\n",
        "fashion_test = datasets.FashionMNIST(root=\"./data\", train=False, download=True, transform=fashion_transform)\n",
        "\n",
        "# Filter for T-shirt (class 0) and Pullover (class 2)\n",
        "indices_tshirt_train = [i for i, (img, label) in enumerate(fashion_train) if label == 0]\n",
        "indices_pullover_train = [i for i, (img, label) in enumerate(fashion_train) if label == 2]\n",
        "indices_tshirt_test = [i for i, (img, label) in enumerate(fashion_test) if label == 0]\n",
        "indices_pullover_test = [i for i, (img, label) in enumerate(fashion_test) if label == 2]\n",
        "\n",
        "# Combine the indices\n",
        "train_indices = indices_tshirt_train + indices_pullover_train\n",
        "test_indices = indices_tshirt_test + indices_pullover_test\n",
        "\n",
        "# Create subsets\n",
        "train_data = Subset(fashion_train, train_indices)\n",
        "test_data = Subset(fashion_test, test_indices)\n",
        "\n",
        "# Binarize labels: T-shirt -> 0, Pullover -> 1\n",
        "def binarize_labels(subset):\n",
        "    images, labels = zip(*[(data[0], 1 if data[1] == 2 else 0) for data in subset])\n",
        "    return torch.stack(images), torch.tensor(labels)\n",
        "\n",
        "# Binarize train and test labels\n",
        "X_train, y_train = binarize_labels(train_data)\n",
        "X_test, y_test = binarize_labels(test_data)\n",
        "\n",
        "# Verify shapes\n",
        "print(f\"Train data shape: {X_train.shape}, Train labels shape: {y_train.shape}\")\n",
        "print(f\"Test data shape: {X_test.shape}, Test labels shape: {y_test.shape}\")"
      ],
      "metadata": {
        "colab": {
          "base_uri": "https://localhost:8080/"
        },
        "id": "ZxbCZm0nch5t",
        "outputId": "2ad58b48-a60d-4214-f6e1-25d18360dc9f"
      },
      "execution_count": 18,
      "outputs": [
        {
          "output_type": "stream",
          "name": "stdout",
          "text": [
            "Train data shape: torch.Size([12000, 1, 28, 28]), Train labels shape: torch.Size([12000])\n",
            "Test data shape: torch.Size([2000, 1, 28, 28]), Test labels shape: torch.Size([2000])\n"
          ]
        }
      ]
    },
    {
      "cell_type": "code",
      "source": [
        "class DeepReLUNetwork(nn.Module):\n",
        "    def __init__(self, input_size=28*28, hidden_size=128):\n",
        "        super(DeepReLUNetwork, self).__init__()\n",
        "        self.network = nn.Sequential(\n",
        "            nn.Flatten(),  # Flatten 28x28 images into 1D\n",
        "            nn.Linear(input_size, hidden_size),\n",
        "            nn.ReLU(),\n",
        "            nn.Linear(hidden_size, hidden_size),\n",
        "            nn.ReLU(),\n",
        "            nn.Linear(hidden_size, 1),  # Output layer (binary classification)\n",
        "            nn.Sigmoid()  # To output probabilities\n",
        "        )\n",
        "\n",
        "    def forward(self, x):\n",
        "        return self.network(x)"
      ],
      "metadata": {
        "id": "0-3JNcN7cvnq"
      },
      "execution_count": 19,
      "outputs": []
    },
    {
      "cell_type": "code",
      "source": [
        "from torch.utils.data import TensorDataset, DataLoader\n",
        "\n",
        "# Create DataLoaders\n",
        "batch_size = 64\n",
        "train_loader = DataLoader(TensorDataset(X_train, y_train), batch_size=batch_size, shuffle=True)\n",
        "test_loader = DataLoader(TensorDataset(X_test, y_test), batch_size=batch_size, shuffle=False)\n",
        "\n",
        "# Initialize model, loss, and optimizer\n",
        "model = DeepReLUNetwork()\n",
        "criterion = nn.BCELoss()  # Binary Cross-Entropy Loss\n",
        "optimizer = torch.optim.Adam(model.parameters(), lr=0.001)\n",
        "\n",
        "# Training loop\n",
        "epochs = 50\n",
        "for epoch in range(epochs):\n",
        "    model.train()\n",
        "    running_loss = 0.0\n",
        "\n",
        "    for images, labels in train_loader:\n",
        "        # Forward pass\n",
        "        outputs = model(images)\n",
        "        loss = criterion(outputs.squeeze(), labels.float())\n",
        "\n",
        "        # Backward pass\n",
        "        optimizer.zero_grad()\n",
        "        loss.backward()\n",
        "        optimizer.step()\n",
        "\n",
        "        running_loss += loss.item()\n",
        "\n",
        "    print(f\"Epoch {epoch+1}/{epochs}, Loss: {running_loss/len(train_loader):.4f}\")"
      ],
      "metadata": {
        "colab": {
          "base_uri": "https://localhost:8080/"
        },
        "id": "rRSukJarcywY",
        "outputId": "db461969-607b-4cee-90bc-82052ef60c66"
      },
      "execution_count": 20,
      "outputs": [
        {
          "output_type": "stream",
          "name": "stdout",
          "text": [
            "Epoch 1/50, Loss: 0.1536\n",
            "Epoch 2/50, Loss: 0.1039\n",
            "Epoch 3/50, Loss: 0.0890\n",
            "Epoch 4/50, Loss: 0.0859\n",
            "Epoch 5/50, Loss: 0.0824\n",
            "Epoch 6/50, Loss: 0.0787\n",
            "Epoch 7/50, Loss: 0.0728\n",
            "Epoch 8/50, Loss: 0.0691\n",
            "Epoch 9/50, Loss: 0.0663\n",
            "Epoch 10/50, Loss: 0.0623\n",
            "Epoch 11/50, Loss: 0.0599\n",
            "Epoch 12/50, Loss: 0.0590\n",
            "Epoch 13/50, Loss: 0.0536\n",
            "Epoch 14/50, Loss: 0.0543\n",
            "Epoch 15/50, Loss: 0.0514\n",
            "Epoch 16/50, Loss: 0.0490\n",
            "Epoch 17/50, Loss: 0.0499\n",
            "Epoch 18/50, Loss: 0.0437\n",
            "Epoch 19/50, Loss: 0.0439\n",
            "Epoch 20/50, Loss: 0.0436\n",
            "Epoch 21/50, Loss: 0.0421\n",
            "Epoch 22/50, Loss: 0.0385\n",
            "Epoch 23/50, Loss: 0.0337\n",
            "Epoch 24/50, Loss: 0.0336\n",
            "Epoch 25/50, Loss: 0.0365\n",
            "Epoch 26/50, Loss: 0.0330\n",
            "Epoch 27/50, Loss: 0.0302\n",
            "Epoch 28/50, Loss: 0.0297\n",
            "Epoch 29/50, Loss: 0.0296\n",
            "Epoch 30/50, Loss: 0.0290\n",
            "Epoch 31/50, Loss: 0.0297\n",
            "Epoch 32/50, Loss: 0.0252\n",
            "Epoch 33/50, Loss: 0.0264\n",
            "Epoch 34/50, Loss: 0.0240\n",
            "Epoch 35/50, Loss: 0.0275\n",
            "Epoch 36/50, Loss: 0.0230\n",
            "Epoch 37/50, Loss: 0.0200\n",
            "Epoch 38/50, Loss: 0.0200\n",
            "Epoch 39/50, Loss: 0.0214\n",
            "Epoch 40/50, Loss: 0.0183\n",
            "Epoch 41/50, Loss: 0.0213\n",
            "Epoch 42/50, Loss: 0.0197\n",
            "Epoch 43/50, Loss: 0.0234\n",
            "Epoch 44/50, Loss: 0.0203\n",
            "Epoch 45/50, Loss: 0.0202\n",
            "Epoch 46/50, Loss: 0.0193\n",
            "Epoch 47/50, Loss: 0.0151\n",
            "Epoch 48/50, Loss: 0.0221\n",
            "Epoch 49/50, Loss: 0.0148\n",
            "Epoch 50/50, Loss: 0.0158\n"
          ]
        }
      ]
    },
    {
      "cell_type": "code",
      "source": [
        "# Evaluate the model on the test set\n",
        "model.eval()\n",
        "with torch.no_grad():\n",
        "    y_pred_probs = []\n",
        "    for images, _ in test_loader:\n",
        "        outputs = model(images)\n",
        "        y_pred_probs.extend(outputs.squeeze().tolist())\n",
        "\n",
        "# Convert predictions to numpy array for histogram\n",
        "y_pred_probs = np.array(y_pred_probs)"
      ],
      "metadata": {
        "id": "rJZgPEPgc6r9"
      },
      "execution_count": 21,
      "outputs": []
    },
    {
      "cell_type": "code",
      "source": [
        "import matplotlib.pyplot as plt\n",
        "\n",
        "# Plot histogram\n",
        "plt.figure(figsize=(8, 6))\n",
        "plt.hist(y_pred_probs, bins=20, range=(0, 1), alpha=0.7, color='blue', edgecolor='black')\n",
        "plt.title(\"Histogram of Predicted Probabilities (T-shirt vs Pullover)\", fontsize=14)\n",
        "plt.xlabel(\"Predicted Probability\", fontsize=12)\n",
        "plt.ylabel(\"Frequency\", fontsize=12)\n",
        "plt.axvline(0.5, color='red', linestyle='--', label='Decision Boundary (0.5)')\n",
        "plt.legend(fontsize=12)\n",
        "plt.show()"
      ],
      "metadata": {
        "colab": {
          "base_uri": "https://localhost:8080/",
          "height": 569
        },
        "id": "aAOSoYZoc7uc",
        "outputId": "06a38bbf-e6d6-4d29-855a-69b8fcad7d4c"
      },
      "execution_count": 22,
      "outputs": [
        {
          "output_type": "display_data",
          "data": {
            "text/plain": [
              "<Figure size 800x600 with 1 Axes>"
            ],
            "image/png": "[encoded data removed]"
          },
          "metadata": {}
        }
      ]
    }
  ]
}