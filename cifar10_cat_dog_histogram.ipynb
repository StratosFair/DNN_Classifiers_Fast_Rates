{
  "nbformat": 4,
  "nbformat_minor": 0,
  "metadata": {
    "colab": {
      "provenance": [],
      "authorship_tag": "ABX9TyOKOUMluWgIGt5OIiaj9I63",
      "include_colab_link": true
    },
    "kernelspec": {
      "name": "python3",
      "display_name": "Python 3"
    },
    "language_info": {
      "name": "python"
    }
  },
  "cells": [
    {
      "cell_type": "markdown",
      "metadata": {
        "id": "view-in-github",
        "colab_type": "text"
      },
      "source": [
        "<a href=\"https://colab.research.google.com/github/StratosFair/DNN_Classifiers_Fast_Rates/blob/main/cifar10_cat_dog_histogram.ipynb\" target=\"_parent\"><img src=\"https://colab.research.google.com/assets/colab-badge.svg\" alt=\"Open In Colab\"/></a>"
      ]
    },
    {
      "cell_type": "code",
      "source": [
        "import torch\n",
        "import torch.nn as nn\n",
        "from torchvision import datasets, transforms\n",
        "from torch.utils.data import DataLoader, Subset, TensorDataset\n",
        "import numpy as np\n",
        "import matplotlib.pyplot as plt"
      ],
      "metadata": {
        "id": "i7GCt41rmLrh"
      },
      "execution_count": 1,
      "outputs": []
    },
    {
      "cell_type": "code",
      "source": [
        "\n",
        "# CIFAR-10 Classes\n",
        "cifar_classes = ['airplane', 'automobile', 'bird', 'cat', 'deer', 'dog', 'frog', 'horse', 'ship', 'truck']\n",
        "\n",
        "# Define transforms to convert images into tensors\n",
        "cifar_transform = transforms.Compose([\n",
        "    transforms.ToTensor()\n",
        "])\n",
        "\n",
        "# Load CIFAR-10 dataset\n",
        "cifar_train = datasets.CIFAR10(root=\"./data\", train=True, download=True, transform=cifar_transform)\n",
        "cifar_test = datasets.CIFAR10(root=\"./data\", train=False, download=True, transform=cifar_transform)\n",
        "\n",
        "# Filter for cat (class 3) and dog (class 5)\n",
        "indices_cat = [i for i, (_, label) in enumerate(cifar_train) if label == 3]\n",
        "indices_dog = [i for i, (_, label) in enumerate(cifar_train) if label == 5]\n",
        "\n",
        "# Combine indices\n",
        "train_indices = indices_cat + indices_dog\n",
        "test_indices = [i for i, (_, label) in enumerate(cifar_test) if label in [3, 5]]\n",
        "\n",
        "# Create train and test subsets\n",
        "train_data = Subset(cifar_train, train_indices)\n",
        "test_data = Subset(cifar_test, test_indices)\n",
        "\n",
        "# Assign labels: Dog -> +1, Cat -> -1\n",
        "def assign_labels(subset):\n",
        "    images, labels = zip(*[(data[0], 1.0 if data[1] == 5 else -1.0) for data in subset])\n",
        "    return torch.stack(images), torch.tensor(labels)\n",
        "\n",
        "# Assign labels to train and test datasets\n",
        "X_train, y_train = assign_labels(train_data)\n",
        "X_test, y_test = assign_labels(test_data)\n",
        "\n",
        "# Verify data shapes\n",
        "print(f\"Train data shape: {X_train.shape}, Train labels shape: {y_train.shape}\")\n",
        "print(f\"Test data shape: {X_test.shape}, Test labels shape: {y_test.shape}\")"
      ],
      "metadata": {
        "id": "aRtTPuU-szS4",
        "outputId": "70af4921-21c9-4088-9f36-2c3cb3c3fd85",
        "colab": {
          "base_uri": "https://localhost:8080/"
        }
      },
      "execution_count": 2,
      "outputs": [
        {
          "output_type": "stream",
          "name": "stderr",
          "text": [
            "100%|██████████| 170M/170M [00:02<00:00, 61.2MB/s]\n"
          ]
        },
        {
          "output_type": "stream",
          "name": "stdout",
          "text": [
            "Train data shape: torch.Size([10000, 3, 32, 32]), Train labels shape: torch.Size([10000])\n",
            "Test data shape: torch.Size([2000, 3, 32, 32]), Test labels shape: torch.Size([2000])\n"
          ]
        }
      ]
    },
    {
      "cell_type": "code",
      "source": [
        "class SimpleCNN(nn.Module):\n",
        "    def __init__(self):\n",
        "        super(SimpleCNN, self).__init__()\n",
        "        self.network = nn.Sequential(\n",
        "            # Convolutional layers\n",
        "            nn.Conv2d(3, 32, kernel_size=3, stride=1, padding=1),\n",
        "            nn.ReLU(),\n",
        "            nn.MaxPool2d(kernel_size=2, stride=2),\n",
        "            nn.Conv2d(32, 64, kernel_size=3, stride=1, padding=1),\n",
        "            nn.ReLU(),\n",
        "            nn.MaxPool2d(kernel_size=2, stride=2),\n",
        "            # Fully connected layers\n",
        "            nn.Flatten(),\n",
        "            nn.Linear(64 * 8 * 8, 128),\n",
        "            nn.ReLU(),\n",
        "            nn.Linear(128, 1)  # Outputs a scalar value (-1 to 1)\n",
        "        )\n",
        "\n",
        "    def forward(self, x):\n",
        "        return self.network(x)"
      ],
      "metadata": {
        "id": "Ju0AWZhLjYt0"
      },
      "execution_count": 3,
      "outputs": []
    },
    {
      "cell_type": "code",
      "source": [
        "# Create DataLoaders\n",
        "batch_size = 64\n",
        "train_loader = DataLoader(TensorDataset(X_train, y_train), batch_size=batch_size, shuffle=True)\n",
        "test_loader = DataLoader(TensorDataset(X_test, y_test), batch_size=batch_size, shuffle=False)\n",
        "\n",
        "# Initialize model, loss, and optimizer\n",
        "model = SimpleCNN()\n",
        "criterion = nn.MSELoss()  # Mean Squared Error Loss\n",
        "optimizer = torch.optim.Adam(model.parameters(), lr=0.001)\n",
        "\n",
        "# Define the loss threshold\n",
        "loss_threshold = 0.03\n",
        "\n",
        "# Training loop with early stopping\n",
        "epochs = 100\n",
        "for epoch in range(epochs):\n",
        "    model.train()\n",
        "    running_loss = 0.0\n",
        "\n",
        "    for images, labels in train_loader:\n",
        "        # Forward pass\n",
        "        outputs = model(images).squeeze()  # Output shape: [batch_size]\n",
        "        loss = criterion(outputs, labels)\n",
        "\n",
        "        # Backward pass\n",
        "        optimizer.zero_grad()\n",
        "        loss.backward()\n",
        "        optimizer.step()\n",
        "\n",
        "        running_loss += loss.item()\n",
        "\n",
        "    # Calculate average loss for the epoch\n",
        "    avg_loss = running_loss / len(train_loader)\n",
        "\n",
        "    # Print progress\n",
        "    print(f\"Epoch {epoch+1}/{epochs}, Loss: {avg_loss:.4f}\")\n",
        "\n",
        "    # Check if loss is below the threshold\n",
        "    if avg_loss < loss_threshold:\n",
        "        print(f\"Stopping early at epoch {epoch+1} as loss fell below {loss_threshold:.4f}\")\n",
        "        break"
      ],
      "metadata": {
        "collapsed": true,
        "id": "inJt09LxtP-2",
        "outputId": "371c1627-d949-4835-b9c5-5545e7b0cf6e",
        "colab": {
          "base_uri": "https://localhost:8080/"
        }
      },
      "execution_count": 7,
      "outputs": [
        {
          "output_type": "stream",
          "name": "stdout",
          "text": [
            "Epoch 1/100, Loss: 0.9556\n",
            "Epoch 2/100, Loss: 0.8442\n",
            "Epoch 3/100, Loss: 0.7734\n",
            "Epoch 4/100, Loss: 0.7212\n",
            "Epoch 5/100, Loss: 0.6780\n",
            "Epoch 6/100, Loss: 0.6345\n",
            "Epoch 7/100, Loss: 0.5987\n",
            "Epoch 8/100, Loss: 0.5700\n",
            "Epoch 9/100, Loss: 0.5447\n",
            "Epoch 10/100, Loss: 0.5195\n",
            "Epoch 11/100, Loss: 0.4891\n",
            "Epoch 12/100, Loss: 0.4672\n",
            "Epoch 13/100, Loss: 0.4430\n",
            "Epoch 14/100, Loss: 0.3986\n",
            "Epoch 15/100, Loss: 0.3751\n",
            "Epoch 16/100, Loss: 0.3534\n",
            "Epoch 17/100, Loss: 0.3211\n",
            "Epoch 18/100, Loss: 0.2997\n",
            "Epoch 19/100, Loss: 0.2737\n",
            "Epoch 20/100, Loss: 0.2490\n",
            "Epoch 21/100, Loss: 0.2320\n",
            "Epoch 22/100, Loss: 0.2054\n",
            "Epoch 23/100, Loss: 0.1858\n",
            "Epoch 24/100, Loss: 0.1661\n",
            "Epoch 25/100, Loss: 0.1508\n",
            "Epoch 26/100, Loss: 0.1327\n",
            "Epoch 27/100, Loss: 0.1216\n",
            "Epoch 28/100, Loss: 0.1059\n",
            "Epoch 29/100, Loss: 0.0951\n",
            "Epoch 30/100, Loss: 0.0875\n",
            "Epoch 31/100, Loss: 0.0795\n",
            "Epoch 32/100, Loss: 0.0666\n",
            "Epoch 33/100, Loss: 0.0599\n",
            "Epoch 34/100, Loss: 0.0574\n",
            "Epoch 35/100, Loss: 0.0483\n",
            "Epoch 36/100, Loss: 0.0435\n",
            "Epoch 37/100, Loss: 0.0423\n",
            "Epoch 38/100, Loss: 0.0351\n",
            "Epoch 39/100, Loss: 0.0335\n",
            "Epoch 40/100, Loss: 0.0295\n",
            "Epoch 41/100, Loss: 0.0308\n",
            "Epoch 42/100, Loss: 0.0319\n",
            "Epoch 43/100, Loss: 0.0272\n",
            "Epoch 44/100, Loss: 0.0273\n",
            "Epoch 45/100, Loss: 0.0309\n",
            "Epoch 46/100, Loss: 0.0257\n",
            "Epoch 47/100, Loss: 0.0217\n",
            "Epoch 48/100, Loss: 0.0229\n",
            "Epoch 49/100, Loss: 0.0219\n",
            "Epoch 50/100, Loss: 0.0222\n",
            "Epoch 51/100, Loss: 0.0246\n",
            "Epoch 52/100, Loss: 0.0253\n",
            "Epoch 53/100, Loss: 0.0252\n",
            "Epoch 54/100, Loss: 0.0240\n",
            "Epoch 55/100, Loss: 0.0207\n",
            "Epoch 56/100, Loss: 0.0202\n",
            "Epoch 57/100, Loss: 0.0205\n",
            "Epoch 58/100, Loss: 0.0244\n",
            "Epoch 59/100, Loss: 0.0271\n",
            "Epoch 60/100, Loss: 0.0257\n",
            "Epoch 61/100, Loss: 0.0205\n",
            "Epoch 62/100, Loss: 0.0189\n",
            "Epoch 63/100, Loss: 0.0166\n",
            "Epoch 64/100, Loss: 0.0158\n",
            "Epoch 65/100, Loss: 0.0161\n",
            "Epoch 66/100, Loss: 0.0153\n",
            "Epoch 67/100, Loss: 0.0206\n",
            "Epoch 68/100, Loss: 0.0200\n",
            "Epoch 69/100, Loss: 0.0196\n",
            "Epoch 70/100, Loss: 0.0219\n",
            "Epoch 71/100, Loss: 0.0214\n",
            "Epoch 72/100, Loss: 0.0190\n",
            "Epoch 73/100, Loss: 0.0183\n",
            "Epoch 74/100, Loss: 0.0160\n",
            "Epoch 75/100, Loss: 0.0183\n",
            "Epoch 76/100, Loss: 0.0216\n",
            "Epoch 77/100, Loss: 0.0209\n",
            "Epoch 78/100, Loss: 0.0181\n",
            "Epoch 79/100, Loss: 0.0154\n",
            "Epoch 80/100, Loss: 0.0129\n",
            "Epoch 81/100, Loss: 0.0141\n",
            "Epoch 82/100, Loss: 0.0151\n",
            "Epoch 83/100, Loss: 0.0172\n",
            "Epoch 84/100, Loss: 0.0166\n",
            "Epoch 85/100, Loss: 0.0171\n",
            "Epoch 86/100, Loss: 0.0177\n",
            "Epoch 87/100, Loss: 0.0152\n",
            "Epoch 88/100, Loss: 0.0159\n",
            "Epoch 89/100, Loss: 0.0148\n",
            "Epoch 90/100, Loss: 0.0140\n",
            "Epoch 91/100, Loss: 0.0134\n",
            "Epoch 92/100, Loss: 0.0151\n",
            "Epoch 93/100, Loss: 0.0155\n",
            "Epoch 94/100, Loss: 0.0166\n",
            "Epoch 95/100, Loss: 0.0175\n",
            "Epoch 96/100, Loss: 0.0159\n",
            "Epoch 97/100, Loss: 0.0157\n",
            "Epoch 98/100, Loss: 0.0140\n",
            "Epoch 99/100, Loss: 0.0131\n",
            "Epoch 100/100, Loss: 0.0127\n"
          ]
        }
      ]
    },
    {
      "cell_type": "code",
      "source": [
        "# Evaluate the model on the test set\n",
        "model.eval()\n",
        "with torch.no_grad():\n",
        "    y_pred = []\n",
        "    for images, _ in test_loader:\n",
        "        outputs = model(images).squeeze()  # Predicted values (-1 to 1)\n",
        "        y_pred.extend(outputs.tolist())\n",
        "\n",
        "# Convert predictions to numpy array for histogram\n",
        "y_pred = np.array(y_pred)"
      ],
      "metadata": {
        "id": "412j-Lsqje3n"
      },
      "execution_count": 5,
      "outputs": []
    },
    {
      "cell_type": "code",
      "source": [
        "# Clip predictions to [-1, 1]\n",
        "y_pred = np.clip(y_pred, -1, 1)\n",
        "\n",
        "# Plot histogram\n",
        "plt.figure(figsize=(8, 6))\n",
        "bins = np.linspace(-1, 1, 51)  # 50 bins between -1 and 1\n",
        "plt.hist(y_pred[y_pred < 0], bins=bins, alpha=0.7, color='blue', edgecolor='black', label='Predicted: Cat (-1)')\n",
        "plt.hist(y_pred[y_pred > 0], bins=bins, alpha=0.7, color='red', edgecolor='black', label='Predicted: Dog (+1)')\n",
        "plt.axvline(0, color='black', linestyle='--', label='Decision Boundary (0)')\n",
        "\n",
        "# Add labels and title\n",
        "plt.title(\"Histogram of Predicted Labels (Cat vs Dog)\", fontsize=14)\n",
        "plt.xlabel(\"Predicted Label\", fontsize=12)\n",
        "plt.ylabel(\"Frequency\", fontsize=12)\n",
        "plt.legend(fontsize=12)\n",
        "plt.show()"
      ],
      "metadata": {
        "colab": {
          "base_uri": "https://localhost:8080/",
          "height": 569
        },
        "id": "PThxbicgkCni",
        "outputId": "bbd62448-a67b-4fff-d71b-ca883a7a035a"
      },
      "execution_count": 6,
      "outputs": [
        {
          "output_type": "display_data",
          "data": {
            "text/plain": [
              "<Figure size 800x600 with 1 Axes>"
            ],
            "image/png": "[encoded data removed]"
          },
          "metadata": {}
        }
      ]
    },
    {
      "cell_type": "code",
      "source": [],
      "metadata": {
        "id": "j0Utl4LWkDcA"
      },
      "execution_count": 6,
      "outputs": []
    }
  ]
}