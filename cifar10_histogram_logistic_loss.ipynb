{
  "nbformat": 4,
  "nbformat_minor": 0,
  "metadata": {
    "colab": {
      "provenance": [],
      "authorship_tag": "ABX9TyOOV/dolgYmBWyTeReRHdlw",
      "include_colab_link": true
    },
    "kernelspec": {
      "name": "python3",
      "display_name": "Python 3"
    },
    "language_info": {
      "name": "python"
    }
  },
  "cells": [
    {
      "cell_type": "markdown",
      "metadata": {
        "id": "view-in-github",
        "colab_type": "text"
      },
      "source": [
        "<a href=\"https://colab.research.google.com/github/StratosFair/DNN_Classifiers_Fast_Rates/blob/main/cifar10_histogram.ipynb\" target=\"_parent\"><img src=\"https://colab.research.google.com/assets/colab-badge.svg\" alt=\"Open In Colab\"/></a>"
      ]
    },
    {
      "cell_type": "code",
      "source": [
        "import torch\n",
        "from torchvision import datasets, transforms\n",
        "from torch.utils.data import DataLoader, Subset\n",
        "import numpy as np"
      ],
      "metadata": {
        "id": "i7GCt41rmLrh"
      },
      "execution_count": 23,
      "outputs": []
    },
    {
      "cell_type": "code",
      "source": [
        "# Define transforms: normalize and convert to tensors\n",
        "cifar_transform = transforms.Compose([\n",
        "    transforms.ToTensor(),\n",
        "    transforms.Normalize((0.5, 0.5, 0.5), (0.5, 0.5, 0.5))  # Normalize to [-1, 1]\n",
        "])\n",
        "\n",
        "# Load CIFAR-10 dataset\n",
        "cifar_train = datasets.CIFAR10(root=\"./data\", train=True, download=True, transform=cifar_transform)\n",
        "cifar_test = datasets.CIFAR10(root=\"./data\", train=False, download=True, transform=cifar_transform)\n",
        "\n",
        "# CIFAR-10 Classes\n",
        "cifar_classes = ['airplane', 'automobile', 'bird', 'cat', 'deer', 'dog', 'frog', 'horse', 'ship', 'truck']\n",
        "\n",
        "# Filter for cat (class 3) and dog (class 5)\n",
        "indices_cat_train = [i for i, (img, label) in enumerate(cifar_train) if label == 3]\n",
        "indices_dog_train = [i for i, (img, label) in enumerate(cifar_train) if label == 5]\n",
        "indices_cat_test = [i for i, (img, label) in enumerate(cifar_test) if label == 3]\n",
        "indices_dog_test = [i for i, (img, label) in enumerate(cifar_test) if label == 5]\n",
        "\n",
        "# Combine train and test indices\n",
        "train_indices = indices_cat_train + indices_dog_train\n",
        "test_indices = indices_cat_test + indices_dog_test\n",
        "\n",
        "# Create subsets\n",
        "train_data = Subset(cifar_train, train_indices)\n",
        "test_data = Subset(cifar_test, test_indices)\n",
        "\n",
        "# Binarize labels: Cat -> 0, Dog -> 1\n",
        "def binarize_labels(subset):\n",
        "    images, labels = zip(*[(data[0], 1 if data[1] == 5 else 0) for data in subset])\n",
        "    return torch.stack(images), torch.tensor(labels)\n",
        "\n",
        "# Binarize train and test labels\n",
        "X_train, y_train = binarize_labels(train_data)\n",
        "X_test, y_test = binarize_labels(test_data)\n",
        "\n",
        "# Verify shapes\n",
        "print(f\"Train data shape: {X_train.shape}, Train labels shape: {y_train.shape}\")\n",
        "print(f\"Test data shape: {X_test.shape}, Test labels shape: {y_test.shape}\")"
      ],
      "metadata": {
        "colab": {
          "base_uri": "https://localhost:8080/"
        },
        "id": "aJ8XOB2bjTSF",
        "outputId": "724bed9d-58ee-476e-8345-0f83979e249e"
      },
      "execution_count": 24,
      "outputs": [
        {
          "output_type": "stream",
          "name": "stderr",
          "text": [
            "100%|██████████| 170M/170M [00:03<00:00, 43.2MB/s]\n"
          ]
        },
        {
          "output_type": "stream",
          "name": "stdout",
          "text": [
            "Train data shape: torch.Size([10000, 3, 32, 32]), Train labels shape: torch.Size([10000])\n",
            "Test data shape: torch.Size([2000, 3, 32, 32]), Test labels shape: torch.Size([2000])\n"
          ]
        }
      ]
    },
    {
      "cell_type": "code",
      "source": [
        "import torch.nn as nn\n",
        "\n",
        "class SimpleCNN(nn.Module):\n",
        "    def __init__(self):\n",
        "        super(SimpleCNN, self).__init__()\n",
        "        self.network = nn.Sequential(\n",
        "            # Convolutional layers\n",
        "            nn.Conv2d(3, 32, kernel_size=3, stride=1, padding=1),\n",
        "            nn.ReLU(),\n",
        "            nn.MaxPool2d(kernel_size=2, stride=2),\n",
        "            nn.Conv2d(32, 64, kernel_size=3, stride=1, padding=1),\n",
        "            nn.ReLU(),\n",
        "            nn.MaxPool2d(kernel_size=2, stride=2),\n",
        "            # Fully connected layers\n",
        "            nn.Flatten(),\n",
        "            nn.Linear(64 * 8 * 8, 128),\n",
        "            nn.ReLU(),\n",
        "            nn.Linear(128, 1),\n",
        "            nn.Sigmoid()  # Binary classification (outputs probabilities)\n",
        "        )\n",
        "\n",
        "    def forward(self, x):\n",
        "        return self.network(x)"
      ],
      "metadata": {
        "id": "Ju0AWZhLjYt0"
      },
      "execution_count": 25,
      "outputs": []
    },
    {
      "cell_type": "code",
      "source": [
        "from torch.utils.data import TensorDataset, DataLoader\n",
        "\n",
        "# Create DataLoaders\n",
        "batch_size = 64\n",
        "train_loader = DataLoader(TensorDataset(X_train, y_train), batch_size=batch_size, shuffle=True)\n",
        "test_loader = DataLoader(TensorDataset(X_test, y_test), batch_size=batch_size, shuffle=False)\n",
        "\n",
        "# Initialize model, loss, and optimizer\n",
        "model = SimpleCNN()\n",
        "criterion = nn.BCELoss()  # Binary Cross-Entropy Loss\n",
        "optimizer = torch.optim.Adam(model.parameters(), lr=0.001)\n",
        "\n",
        "# Training loop\n",
        "epochs = 10\n",
        "for epoch in range(epochs):\n",
        "    model.train()\n",
        "    running_loss = 0.0\n",
        "\n",
        "    for images, labels in train_loader:\n",
        "        # Forward pass\n",
        "        outputs = model(images)\n",
        "        loss = criterion(outputs.squeeze(), labels.float())\n",
        "\n",
        "        # Backward pass\n",
        "        optimizer.zero_grad()\n",
        "        loss.backward()\n",
        "        optimizer.step()\n",
        "\n",
        "        running_loss += loss.item()\n",
        "\n",
        "    print(f\"Epoch {epoch+1}/{epochs}, Loss: {running_loss/len(train_loader):.4f}\")"
      ],
      "metadata": {
        "colab": {
          "base_uri": "https://localhost:8080/"
        },
        "id": "wizn3fxtjccv",
        "outputId": "f5c874fc-e0b9-440c-e0bc-06059125260e"
      },
      "execution_count": 26,
      "outputs": [
        {
          "output_type": "stream",
          "name": "stdout",
          "text": [
            "Epoch 1/10, Loss: 0.6326\n",
            "Epoch 2/10, Loss: 0.5578\n",
            "Epoch 3/10, Loss: 0.5075\n",
            "Epoch 4/10, Loss: 0.4664\n",
            "Epoch 5/10, Loss: 0.4258\n",
            "Epoch 6/10, Loss: 0.3875\n",
            "Epoch 7/10, Loss: 0.3380\n",
            "Epoch 8/10, Loss: 0.2953\n",
            "Epoch 9/10, Loss: 0.2390\n",
            "Epoch 10/10, Loss: 0.2004\n"
          ]
        }
      ]
    },
    {
      "cell_type": "code",
      "source": [
        "# Evaluate the model on the test set\n",
        "model.eval()\n",
        "with torch.no_grad():\n",
        "    y_pred_probs = []\n",
        "    for images, _ in test_loader:\n",
        "        outputs = model(images)\n",
        "        y_pred_probs.extend(outputs.squeeze().tolist())\n",
        "\n",
        "# Convert predictions to numpy array for histogram\n",
        "y_pred_probs = np.array(y_pred_probs)"
      ],
      "metadata": {
        "id": "412j-Lsqje3n"
      },
      "execution_count": 27,
      "outputs": []
    },
    {
      "cell_type": "code",
      "source": [
        "import matplotlib.pyplot as plt\n",
        "\n",
        "# Plot histogram\n",
        "plt.figure(figsize=(8, 6))\n",
        "plt.hist(y_pred_probs, bins=20, range=(0, 1), alpha=0.7, color='blue', edgecolor='black')\n",
        "plt.title(\"Histogram of Predicted Probabilities (Cat vs Dog)\", fontsize=14)\n",
        "plt.xlabel(\"Predicted Probability\", fontsize=12)\n",
        "plt.ylabel(\"Frequency\", fontsize=12)\n",
        "plt.axvline(0.5, color='red', linestyle='--', label='Decision Boundary (0.5)')\n",
        "plt.legend(fontsize=12)\n",
        "plt.show()"
      ],
      "metadata": {
        "colab": {
          "base_uri": "https://localhost:8080/",
          "height": 569
        },
        "id": "PThxbicgkCni",
        "outputId": "a20b7fe3-af7b-4ac0-9120-cd02658d5d79"
      },
      "execution_count": 28,
      "outputs": [
        {
          "output_type": "display_data",
          "data": {
            "text/plain": [
              "<Figure size 800x600 with 1 Axes>"
            ],
            "image/png": "[encoded data removed]"
          },
          "metadata": {}
        }
      ]
    },
    {
      "cell_type": "code",
      "source": [],
      "metadata": {
        "id": "j0Utl4LWkDcA"
      },
      "execution_count": null,
      "outputs": []
    }
  ]
}
